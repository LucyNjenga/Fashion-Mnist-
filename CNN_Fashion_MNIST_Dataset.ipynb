{
  "cells": [
    {
      "cell_type": "markdown",
      "metadata": {
        "id": "EbEX3_7u-9mF"
      },
      "source": [
        "\n",
        "**Description**: A dataset of Zalando's article images, intended as a drop-in replacement for the original MNIST dataset. It contains 70,000 28x28 grayscale images of 10 fashion categories.\n",
        "\n",
        "Classes: 10 (T-shirt/top, Trouser, Pullover, Dress, Coat, Sandal, Shirt, Sneaker, Bag, Ankle boot)\n",
        "\n",
        "\n",
        "Tasks\n",
        "**bold text**\n",
        "Train a CNN model using this dataset and finetune it to get above 70% accuracy\n",
        "Make sure to use print statements where neccesary to monitor the training of your model\n",
        "\n"
      ]
    },
    {
      "cell_type": "code",
      "execution_count": 1,
      "metadata": {
        "id": "a47ooujz_N4D"
      },
      "outputs": [],
      "source": [
        "import tensorflow as tf\n",
        "from tensorflow.keras.models import Sequential#importing the model\n",
        "from tensorflow.keras.layers import Conv2D, MaxPooling2D, Flatten,Dropout, Dense#importing the different layers\n",
        "from tensorflow.keras.datasets import fashion_mnist #import the dataset\n",
        "from tensorflow.keras.utils import to_categorical #importing the encoder\n",
        "\n"
      ]
    },
    {
      "cell_type": "code",
      "execution_count": 2,
      "metadata": {
        "colab": {
          "base_uri": "https://localhost:8080/"
        },
        "id": "GVeAFojcAOm7",
        "outputId": "4f5b3c4e-6f24-406d-b8d1-bf06c0780f05"
      },
      "outputs": [
        {
          "output_type": "stream",
          "name": "stdout",
          "text": [
            "Downloading data from https://storage.googleapis.com/tensorflow/tf-keras-datasets/train-labels-idx1-ubyte.gz\n",
            "29515/29515 [==============================] - 0s 0us/step\n",
            "Downloading data from https://storage.googleapis.com/tensorflow/tf-keras-datasets/train-images-idx3-ubyte.gz\n",
            "26421880/26421880 [==============================] - 0s 0us/step\n",
            "Downloading data from https://storage.googleapis.com/tensorflow/tf-keras-datasets/t10k-labels-idx1-ubyte.gz\n",
            "5148/5148 [==============================] - 0s 0us/step\n",
            "Downloading data from https://storage.googleapis.com/tensorflow/tf-keras-datasets/t10k-images-idx3-ubyte.gz\n",
            "4422102/4422102 [==============================] - 0s 0us/step\n"
          ]
        }
      ],
      "source": [
        "#splitting the data in to train and test\n",
        "(x_train, y_train), (x_test, y_test) = fashion_mnist.load_data()"
      ]
    },
    {
      "cell_type": "code",
      "source": [
        "print(\"Shape of x_train:\", x_train.shape)  # Shape of training images\n",
        "print(\"Shape of y_train:\", y_train.shape)  # Shape of training labels\n",
        "print(\"Shape of x_test:\", x_test.shape)   # Shape of testing images\n",
        "print(\"Shape of y_test:\", y_test.shape)   # Shape of testing labels"
      ],
      "metadata": {
        "colab": {
          "base_uri": "https://localhost:8080/"
        },
        "id": "QLff_YbV7kES",
        "outputId": "f3580dbe-9e99-4c5a-b8fa-61d86b47a124"
      },
      "execution_count": 4,
      "outputs": [
        {
          "output_type": "stream",
          "name": "stdout",
          "text": [
            "Shape of x_train: (60000, 28, 28)\n",
            "Shape of y_train: (60000,)\n",
            "Shape of x_test: (10000, 28, 28)\n",
            "Shape of y_test: (10000,)\n"
          ]
        }
      ]
    },
    {
      "cell_type": "code",
      "execution_count": 5,
      "metadata": {
        "id": "tHgXaVzBF1g7"
      },
      "outputs": [],
      "source": [
        "#Data preprocessing which is normalizing images to converge and feature scaling.\n",
        "x_train = x_train.astype('float32') / 255.0\n",
        "x_test = x_test.astype('float32') / 255.0"
      ]
    },
    {
      "cell_type": "code",
      "execution_count": 6,
      "metadata": {
        "id": "au9HPt3uGwXw"
      },
      "outputs": [],
      "source": [
        "#encoding the Y to define how many features we have\n",
        "\n",
        "y_train = to_categorical(y_train, num_classes=10)\n",
        "y_test = to_categorical(y_test, num_classes=10)"
      ]
    },
    {
      "cell_type": "code",
      "execution_count": 7,
      "metadata": {
        "id": "pU0ApFxZIFGj"
      },
      "outputs": [],
      "source": [
        "#building the model\n",
        "model=Sequential()"
      ]
    },
    {
      "cell_type": "code",
      "execution_count": 8,
      "metadata": {
        "id": "j2kftaytID8L"
      },
      "outputs": [],
      "source": [
        "#Passing it through the layers\n",
        "#Convolution layer 1\n",
        "#32 the filters or kernel in the convolutional layer\n",
        "#3*3 the size of the kernel\n",
        "model.add(Conv2D(32, (3, 3), activation='relu', input_shape=(28, 28, 1)))\n",
        "model.add(MaxPooling2D((2, 2)))"
      ]
    },
    {
      "cell_type": "code",
      "execution_count": 9,
      "metadata": {
        "id": "Y_RaFC6fPKzn"
      },
      "outputs": [],
      "source": [
        "#Convolutional layer 2\n",
        "model.add(Conv2D(64, (3, 3), activation='relu'))\n",
        "model.add(MaxPooling2D((2, 2)))"
      ]
    },
    {
      "cell_type": "code",
      "execution_count": 10,
      "metadata": {
        "id": "uVLSIdi2RVwY"
      },
      "outputs": [],
      "source": [
        "\n",
        "# Flatten the feature maps before the dense layers\n",
        "model.add(Flatten())"
      ]
    },
    {
      "cell_type": "code",
      "execution_count": 11,
      "metadata": {
        "id": "197X0le6RQaD"
      },
      "outputs": [],
      "source": [
        "#fully connected layer\n",
        "model.add(Dense(64, activation='relu'))\n",
        "model.add(Dense(10, activation='softmax'))\n",
        "model.add(Dropout(0.5))"
      ]
    },
    {
      "cell_type": "code",
      "execution_count": 12,
      "metadata": {
        "id": "vQ_x0FQTUu_w"
      },
      "outputs": [],
      "source": [
        "#compile the model\n",
        "model.compile(optimizer='adam', loss='categorical_crossentropy', metrics=['accuracy'])"
      ]
    },
    {
      "cell_type": "code",
      "execution_count": 13,
      "metadata": {
        "colab": {
          "base_uri": "https://localhost:8080/"
        },
        "id": "cIsPljPKVPg0",
        "outputId": "f260f2a4-b185-493c-f1f3-2106f09edfc0"
      },
      "outputs": [
        {
          "output_type": "stream",
          "name": "stdout",
          "text": [
            "Epoch 1/5\n",
            "938/938 [==============================] - 54s 56ms/step - loss: nan - accuracy: 0.4324 - val_loss: 0.4330 - val_accuracy: 0.8418\n",
            "Epoch 2/5\n",
            "938/938 [==============================] - 49s 53ms/step - loss: nan - accuracy: 0.4590 - val_loss: 0.4059 - val_accuracy: 0.8522\n",
            "Epoch 3/5\n",
            "938/938 [==============================] - 54s 57ms/step - loss: nan - accuracy: 0.4645 - val_loss: 0.3822 - val_accuracy: 0.8536\n",
            "Epoch 4/5\n",
            "938/938 [==============================] - 50s 54ms/step - loss: nan - accuracy: 0.4635 - val_loss: 0.3544 - val_accuracy: 0.8728\n",
            "Epoch 5/5\n",
            "938/938 [==============================] - 53s 57ms/step - loss: nan - accuracy: 0.4665 - val_loss: 0.3200 - val_accuracy: 0.8826\n"
          ]
        },
        {
          "output_type": "execute_result",
          "data": {
            "text/plain": [
              "<keras.src.callbacks.History at 0x7d0b8abff8b0>"
            ]
          },
          "metadata": {},
          "execution_count": 13
        }
      ],
      "source": [
        "#Training the model\n",
        "model.fit(x_train, y_train, epochs=5, batch_size=64, validation_data=(x_test, y_test))"
      ]
    },
    {
      "cell_type": "code",
      "execution_count": 14,
      "metadata": {
        "colab": {
          "base_uri": "https://localhost:8080/"
        },
        "id": "FsgsLvStWtT2",
        "outputId": "0fefded3-f742-433a-cb74-72ee8c75e936"
      },
      "outputs": [
        {
          "output_type": "stream",
          "name": "stdout",
          "text": [
            "313/313 [==============================] - 3s 8ms/step - loss: 0.3200 - accuracy: 0.8826\n",
            "Loss: 0.31998133659362793, Accuracy: 0.8826000094413757\n"
          ]
        }
      ],
      "source": [
        "# Evaluate the model\n",
        "loss, accuracy = model.evaluate(x_test, y_test)\n",
        "print(f'Loss: {loss}, Accuracy: {accuracy}')"
      ]
    },
    {
      "cell_type": "code",
      "execution_count": 15,
      "metadata": {
        "colab": {
          "base_uri": "https://localhost:8080/"
        },
        "id": "9fx1eHO3W8wU",
        "outputId": "a4cecf96-35e4-4e49-d2f8-97ce3beb1db3"
      },
      "outputs": [
        {
          "output_type": "stream",
          "name": "stdout",
          "text": [
            "313/313 [==============================] - 3s 8ms/step\n",
            "Prediction: 9, Actual: 9\n",
            "Prediction: 2, Actual: 2\n",
            "Prediction: 1, Actual: 1\n",
            "Prediction: 1, Actual: 1\n",
            "Prediction: 6, Actual: 6\n"
          ]
        }
      ],
      "source": [
        "# Make predictions\n",
        "predictions = model.predict(x_test)\n",
        "\n",
        "# Show a few predictions\n",
        "import numpy as np\n",
        "\n",
        "for i in range(5):\n",
        "    print(f'Prediction: {np.argmax(predictions[i])}, Actual: {np.argmax(y_test[i])}')"
      ]
    }
  ],
  "metadata": {
    "colab": {
      "provenance": []
    },
    "kernelspec": {
      "display_name": "Python 3",
      "name": "python3"
    },
    "language_info": {
      "name": "python"
    }
  },
  "nbformat": 4,
  "nbformat_minor": 0
}